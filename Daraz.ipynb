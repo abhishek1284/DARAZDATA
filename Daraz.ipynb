{
 "cells": [
  {
   "cell_type": "code",
   "execution_count": 1,
   "id": "518d4983-82aa-4af7-ad8e-db371b05c197",
   "metadata": {},
   "outputs": [
    {
     "name": "stdout",
     "output_type": "stream",
     "text": [
      "Link                                                                                                 Price                Sold Count     \n",
      "https://www.daraz.com.np/products/millenium-sleek-design-square-shape-waterproof-quartz-watch-for-men-i129050388.html Rs. 1,424            533 sold       \n",
      "https://www.daraz.com.np/products/standard-small-casual-golden-stainless-steel-wrist-watch-for-women-i118143407.html Rs. 795              204 sold       \n",
      "https://www.daraz.com.np/products/millenium-mw58014-fashion-waterproof-casual-luminous-quartz-watch-for-men-black-fashion-casual-watch-for-men-i123266088.html Rs. 1,399            950 sold       \n",
      "https://www.daraz.com.np/products/ik-collection-big-analog-round-dial-watch-with-metal-chain-for-men-black-fashion-analog-watch-for-men-i127877183.html Rs. 455              240 sold       \n",
      "https://www.daraz.com.np/products/naviforce-nf9126-genuine-leather-quartz-movement-date-function-analog-wrist-watch-for-men-a-nf9126-casual-watch-for-men-i100436001.html Rs. 1,825            689 sold       \n",
      "https://www.daraz.com.np/products/skmei-9193-gold-dragon-quartz-luxury-stainless-steel-alloy-business-waterproof-wristwatches-for-men-dial-color-may-differ-i125623226.html Rs. 1,706            286 sold       \n",
      "https://www.daraz.com.np/products/naviforce-nf9124-leather-waterproof-date-day-display-quartz-watch-for-men-naviforce-black-case-casual-quartz-watch-for-men-i82686.html Rs. 1,825            637 sold       \n",
      "https://www.daraz.com.np/products/naviforce-nf5025-womens-simplicity-casual-stainless-steel-quartz-watch-i121541227.html Rs. 1,840            197 sold       \n",
      "https://www.daraz.com.np/products/ice-watch-for-men-in-arabic-number-i128576991.html                 Rs. 2,000            211 sold       \n",
      "https://www.daraz.com.np/products/titan-karishma-silver-dial-analog-watch-for-women-2598sm01-silver-strap-fashion-titan-watch-for-women-i349272.html Rs. 3,490            250 sold       \n",
      "https://www.daraz.com.np/products/naviforce-nf9038-day-date-function-analog-watch-for-men-silver-fashion-water-resistant-analog-watch-for-men-i100220824.html Rs. 1,999            682 sold       \n",
      "https://www.daraz.com.np/products/naviforce-nf9074-black-dial-leather-analog-watch-for-men-blackblack-i54601.html Rs. 1,999            690 sold       \n",
      "https://www.daraz.com.np/products/luxury-datejust-steel-gold-quartz-casual-design-stainless-steel-military-waterproof-wrist-watch-for-men-i128081351.html Rs. 1,809            265 sold       \n",
      "https://www.daraz.com.np/products/round-white-dial-ik-collection-silver-color-watch-for-men-i123931115.html Rs. 396              114 sold       \n",
      "https://www.daraz.com.np/products/naviforce-nf8030-fashion-business-date-quartz-waterproof-military-stainless-steel-mens-watch-i128430117.html Rs. 1,953            28 sold        \n",
      "https://www.daraz.com.np/products/golden-dial-with-stainless-steel-strap-and-bracelet-for-women-i129112508.html Rs. 900              31 sold        \n",
      "https://www.daraz.com.np/products/fujitime-gold-l3312-analog-golden-dial-watch-for-women-i121527.html Rs. 2,600            25 sold        \n",
      "https://www.daraz.com.np/products/skmei-1389-multifunctional-business-analog-digital-stainless-steel-watches-for-men-silver-i128301437.html Rs. 2,499            146 sold       \n",
      "https://www.daraz.com.np/products/naviforce-nf9117-analog-stainless-steel-strap-quartz-movement-watch-with-date-display-for-men-silver-fashion-analog-watch-for-men-i121613611.html Rs. 1,769            139 sold       \n",
      "https://www.daraz.com.np/products/quartz-waterproof-golden-watch-for-women-i129830423.html           Rs. 932              39 sold        \n",
      "https://www.daraz.com.np/products/naviforce-nf9074-sports-black-dial-analog-watch-for-men-brown-i54617.html Rs. 1,999            844 sold       \n",
      "https://www.daraz.com.np/products/naviforce-nf5025-womens-simplicity-casual-stainless-steel-quartz-watch-greengolden-i127304350.html Rs. 2,280            34 sold        \n",
      "https://www.daraz.com.np/products/luxury-quartz-casual-design-ceramic-strap-waterproof-wrist-watch-with-japan-movement-i127879201.html Rs. 2,670            84 sold        \n",
      "https://www.daraz.com.np/products/titan-lagan-silver-dial-analog-watch-for-women-2598ym04-i123033461.html Rs. 4,410            84 sold        \n",
      "https://www.daraz.com.np/products/stainless-steel-back-round-dial-leather-strap-watch-for-men-i127818156.html Rs. 990              28 sold        \n",
      "https://www.daraz.com.np/products/waterproof-warranty-quartz-watch-for-women-i129947350.html         Rs. 1,183            12 sold        \n",
      "https://www.daraz.com.np/products/casio-general-metal-fashion-ltp-1129n-7a-ww-for-women-i120822634.html Rs. 5,335                           \n",
      "https://www.daraz.com.np/products/luxury-submariner-date-steel-quartz-casual-design-watch-for-men-i130177533.html Rs. 1,820            13 sold        \n",
      "https://www.daraz.com.np/products/titan-karishma-revive-champagne-dial-analog-watch-for-women-2593ym01-i349257.html Rs. 3,465            145 sold       \n",
      "https://www.daraz.com.np/products/naviforce-nf9038-day-date-function-stainless-steel-watch-blacksilver-i111289720.html Rs. 1,946            43 sold        \n",
      "https://www.daraz.com.np/products/titan-1584sl04-mens-quartz-analog-watch-with-brown-dial-and-brown-strap-water-resistant-date-function-2-year-warranty-i81760.html Rs. 6,410            285 sold       \n",
      "https://www.daraz.com.np/products/edifice-mtp-1183-mtp-1183a-1a-i149388996.html                      Rs. 2,999            21 sold        \n",
      "https://www.daraz.com.np/products/ik-collection-fashionable-round-black-dial-big-size-watch-for-men-i127782460.html Rs. 396              10 sold        \n",
      "https://www.daraz.com.np/products/naviforce-nf9110-luxury-fashion-chronograph-analog-matte-finish-watch-for-men-golden-naviforce-matte-golden-case-casual-watch-for-men-i100093876.html Rs. 3,099            517 sold       \n",
      "https://www.daraz.com.np/products/titan-karishma-zing-quartz-analog-black-dial-leather-strap-watch-for-men-1638sl02-i133216433.html Rs. 3,231            17 sold        \n",
      "https://www.daraz.com.np/products/naviforce-nf5023-womens-fashion-glittery-dial-shine-stainless-steel-mesh-quartz-wrist-watch-for-women-rosegoldwhite-i120498925.html Rs. 2,257            58 sold        \n",
      "https://www.daraz.com.np/products/casual-black-dial-leather-strap-wrist-watch-for-men-i129340780.html Rs. 1,010            39 sold        \n",
      "https://www.daraz.com.np/products/naviforce-nf9134-dual-time-digital-analog-watch-for-men-black-i111289718.html Rs. 2,612            78 sold        \n",
      "https://www.daraz.com.np/products/quartz-golden-stainless-steel-watch-for-men-i128091821.html        Rs. 1,290            12 sold        \n",
      "https://www.daraz.com.np/products/naviforce-nf8023-mens-classic-date-display-luminous-quartz-leather-strap-watch-greensilver-i120494115.html Rs. 1,995                           \n"
     ]
    },
    {
     "name": "stderr",
     "output_type": "stream",
     "text": [
      "C:\\Users\\Dell\\AppData\\Local\\Temp\\ipykernel_2560\\1108156680.py:28: DeprecationWarning: The 'text' argument to find()-type methods is deprecated. Use 'string' instead.\n",
      "  sold_tag = product.find('span', text=lambda x: x and 'sold' in x)\n"
     ]
    }
   ],
   "source": [
    "import csv\n",
    "from bs4 import BeautifulSoup\n",
    "\n",
    "# Read the HTML file\n",
    "with open('Watch.html', 'r', encoding='utf-8') as file:\n",
    "    html_content = file.read()\n",
    "\n",
    "# Parse the HTML content\n",
    "soup = BeautifulSoup(html_content, 'html.parser')\n",
    "\n",
    "# Find all product divs with the specified class\n",
    "product_divs = soup.find_all('div', class_='qmXQo')  # Change this class based on your HTML structure\n",
    "\n",
    "# Prepare to store data\n",
    "data = []\n",
    "\n",
    "# Iterate through each product div\n",
    "for product in product_divs:\n",
    "    # Find the anchor tag for the product link\n",
    "    link_tag = product.find('a', href=True)\n",
    "    link = link_tag['href'] if link_tag else \"\"\n",
    "\n",
    "    # Find the price span\n",
    "    price_tag = product.find('span', class_='ooOxS')\n",
    "    price = price_tag.text.strip() if price_tag else \"\"\n",
    "    \n",
    "    # Find the sold count span\n",
    "    sold_tag = product.find('span', text=lambda x: x and 'sold' in x)\n",
    "    sold_count = sold_tag.text.strip() if sold_tag else \"\"\n",
    "\n",
    "    # Append the collected data to the list\n",
    "    data.append({\n",
    "        'Link': link,\n",
    "        'Price': price,\n",
    "        'Sold Count': sold_count\n",
    "    })\n",
    "\n",
    "# Write data to CSV\n",
    "with open('output.csv', 'w', newline='', encoding='utf-8') as csvfile:\n",
    "    fieldnames = ['Link', 'Price', 'Sold Count']\n",
    "    writer = csv.DictWriter(csvfile, fieldnames=fieldnames)\n",
    "\n",
    "    writer.writeheader()\n",
    "    for entry in data:\n",
    "        writer.writerow(entry)\n",
    "\n",
    "# Print output in table format\n",
    "print(f\"{'Link':<100} {'Price':<20} {'Sold Count':<15}\")\n",
    "for entry in data:\n",
    "    print(f\"{entry['Link']:<100} {entry['Price']:<20} {entry['Sold Count']:<15}\")"
   ]
  },
  {
   "cell_type": "code",
   "execution_count": null,
   "id": "62c76fdc-24b2-4efd-b2ec-c4e38c773ff7",
   "metadata": {},
   "outputs": [],
   "source": []
  }
 ],
 "metadata": {
  "kernelspec": {
   "display_name": "Python 3 (ipykernel)",
   "language": "python",
   "name": "python3"
  },
  "language_info": {
   "codemirror_mode": {
    "name": "ipython",
    "version": 3
   },
   "file_extension": ".py",
   "mimetype": "text/x-python",
   "name": "python",
   "nbconvert_exporter": "python",
   "pygments_lexer": "ipython3",
   "version": "3.12.7"
  }
 },
 "nbformat": 4,
 "nbformat_minor": 5
}
